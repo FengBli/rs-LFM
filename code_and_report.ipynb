{
 "cells": [
  {
   "cell_type": "markdown",
   "metadata": {},
   "source": [
    "# 数据挖掘第二次编程作业--推荐系统\n",
    "---"
   ]
  },
  {
   "cell_type": "code",
   "execution_count": 1,
   "metadata": {},
   "outputs": [],
   "source": [
    "from __future__ import print_function\n",
    "import cPickle\n",
    "import numpy as np\n",
    "import pandas as pd\n",
    "import os\n",
    "import matplotlib.pyplot as plt\n",
    "import math\n",
    "import random\n",
    "from nltk.corpus import stopwords\n",
    "from nltk.tokenize import WordPunctTokenizer\n",
    "from nltk.stem.porter import PorterStemmer\n",
    "import codecs\n",
    "\n",
    "%matplotlib inline\n",
    "\n",
    "DATA_FILE = \"./data/train.dat\"\n",
    "PKL_FILE = \"./data/df.pkl\"\n",
    "RENEWED_FNAME = \"./data/renewed-train.dat\""
   ]
  },
  {
   "cell_type": "markdown",
   "metadata": {},
   "source": [
    "## 1. 数据预处理分析\n",
    "\n",
    "为大致了解数据，先对数据做简要处理。"
   ]
  },
  {
   "cell_type": "markdown",
   "metadata": {},
   "source": [
    "提取出数据的前三列，即`usr id`，`item id`和`rating`数据，并存入单独文件，为便于后续处理。另外，考虑到如果时间有限，可以依据此文件做基础的基于评分数据的推荐，而忽略评论数据。"
   ]
  },
  {
   "cell_type": "code",
   "execution_count": 2,
   "metadata": {},
   "outputs": [],
   "source": [
    "def get_ratings_into_file(src_fname, dst_fname):\n",
    "    \"\"\" 将训练数据的前三列，即用户id，物品id和评分提取出来，存入目标文件 \"\"\"\n",
    "    outf = open(dst_fname, 'a+')\n",
    "    with open(src_fname, 'r') as inf:\n",
    "        for line in inf.readlines():\n",
    "            items = line.split(\" \")[:3]\n",
    "            newLine = \"\"\n",
    "            for i in items:\n",
    "                newLine += (i + \" \")\n",
    "            newLine.strip()\n",
    "            newLine += '\\n'\n",
    "            outf.write(newLine)\n",
    "    outf.close()"
   ]
  },
  {
   "cell_type": "code",
   "execution_count": 3,
   "metadata": {},
   "outputs": [],
   "source": [
    "def load(fname):\n",
    "    \"\"\" 将文件数据导入pandas.DataFrame。\n",
    "    如果首次导入，则将此dataFrame存入同名pkl文件，方便后续调用；如果同名pkl文件存在，则直接从此pkl文件中导入。\n",
    "    \"\"\"\n",
    "    pkl_fname = \".{}.pkl\".format(fname.split(\".\")[-2])\n",
    "    \n",
    "    if not os.path.exists(pkl_fname):\n",
    "        df = pd.read_csv(fname, sep=\"\\s+\", header=None)\n",
    "        df.columns = [\"User\", \"Item\", \"Rating\"]\n",
    "        \n",
    "        with open(pkl_fname, 'wb') as pklf:\n",
    "            cPickle.dump(df, pklf)\n",
    "    else:\n",
    "        with open(pkl_fname, 'r') as pklf:\n",
    "            df = cPickle.load(pklf)\n",
    "            \n",
    "    return df"
   ]
  },
  {
   "cell_type": "code",
   "execution_count": 4,
   "metadata": {},
   "outputs": [
    {
     "name": "stdout",
     "output_type": "stream",
     "text": [
      "In 'train.dat', 21443 users and 16610 items in total.\n"
     ]
    }
   ],
   "source": [
    "df = load(RENEWED_FNAME)\n",
    "\n",
    "usrs = pd.value_counts(df.User)\n",
    "items = pd.value_counts(df.Item)\n",
    "\n",
    "print(\"In 'train.dat', {} users and {} items in total.\".format(usrs.size, items.size))"
   ]
  },
  {
   "cell_type": "code",
   "execution_count": 5,
   "metadata": {},
   "outputs": [
    {
     "data": {
      "text/plain": [
       "count    21443.000000\n",
       "mean        18.344728\n",
       "std         19.736327\n",
       "min          2.000000\n",
       "25%          9.000000\n",
       "50%         12.000000\n",
       "75%         20.000000\n",
       "max        562.000000\n",
       "Name: User, dtype: float64"
      ]
     },
     "execution_count": 5,
     "metadata": {},
     "output_type": "execute_result"
    }
   ],
   "source": [
    "usrs.describe()"
   ]
  },
  {
   "cell_type": "code",
   "execution_count": 6,
   "metadata": {},
   "outputs": [
    {
     "data": {
      "text/plain": [
       "count    16610.000000\n",
       "mean        23.682480\n",
       "std         27.098671\n",
       "min          4.000000\n",
       "25%         10.000000\n",
       "50%         15.000000\n",
       "75%         26.000000\n",
       "max        533.000000\n",
       "Name: Item, dtype: float64"
      ]
     },
     "execution_count": 6,
     "metadata": {},
     "output_type": "execute_result"
    }
   ],
   "source": [
    "items.describe()"
   ]
  },
  {
   "cell_type": "markdown",
   "metadata": {},
   "source": [
    "经过上述处理，可以看到训练数据中，一共有21443个用户，和16610个物品，二者在量级上一致。于是，如果构建用户-物品矩阵，此矩阵维度将是 $21443\\times16610$ 。\n",
    "\n",
    "**另外，可以看到75%的用户只评论了至多20个物品；而75%的物品只被至多26个用户同时评论。**已经可以认为服从长尾分布，下面从分布图上进一步证实这一点。\n",
    "\n",
    "以下，绘制训练数据中，用户出现次数的分布图以及物品出现次数的分布图。"
   ]
  },
  {
   "cell_type": "code",
   "execution_count": 7,
   "metadata": {},
   "outputs": [
    {
     "data": {
      "image/png": "[encoded data removed]",
      "text/plain": [
       "<Figure size 864x288 with 2 Axes>"
      ]
     },
     "metadata": {},
     "output_type": "display_data"
    }
   ],
   "source": [
    "plt.subplot(1, 2, 1)\n",
    "usrs.plot.line(figsize=(12, 4))\n",
    "plt.xlabel(\"User ID\")\n",
    "plt.ylabel(\"times\")\n",
    "plt.title(r\"Distribution of $users$\")\n",
    "\n",
    "plt.subplot(1, 2, 2)\n",
    "items.plot.line(figsize=(12, 4))\n",
    "plt.xlabel(\"Item ID\")\n",
    "plt.ylabel(\"times\")\n",
    "plt.title(r\"Distribution of $items$\")\n",
    "\n",
    "plt.show()"
   ]
  },
  {
   "cell_type": "markdown",
   "metadata": {},
   "source": [
    "由以上图，可以发现无论是用户，还是物品，都是符合长尾分布（也，[齐夫分布](https://en.wikipedia.org/wiki/Zipf%27s_law)）。"
   ]
  },
  {
   "cell_type": "code",
   "execution_count": 8,
   "metadata": {},
   "outputs": [],
   "source": [
    "def RSME(r, r_hat):\n",
    "    \"\"\" 计算均方根误差 \"\"\"\n",
    "    assert r.size == r_hat.size\n",
    "    \n",
    "    error = 0.0\n",
    "    for i, j in zip(r, r_hat):\n",
    "        error += (i - j) ** 2\n",
    "    error = math.sqrt(error) / r.size\n",
    "    \n",
    "    return error "
   ]
  },
  {
   "cell_type": "markdown",
   "metadata": {},
   "source": [
    "## 2. Simon Funk的SVD分解\n",
    "\n",
    "参考：[Simon Funk's Blog](http://sifter.org/~simon/journal/20061211.html)\n",
    "\n",
    "对用户-物品矩阵 $R$ 分解到低维空间上的两矩阵 $P$ 和 $Q$ 相乘。\n",
    "\n",
    "$$\\hat{R} = P^\\text{T}Q$$\n",
    "\n",
    "则，对于用户 $u$ 对物品 $i$ 的评分预测可表示为：\n",
    "\n",
    "$$\\hat{r}=\\sum_f p_{uf}q_{if}$$\n",
    "\n",
    "利用训练集最小化RSME来学习矩阵 $P$ 和 $Q$ ：\n",
    "\n",
    "$$\\min C(P, Q) = \\min_{p,q}\\sum_{(u,i)\\in Train}\\left( r_{ui}-\\sum_{f=1}^F p_{uf}q_{if} \\right)^2 + \\lambda\\left( \\lVert p_u \\rVert^2 + \\lVert q_i \\rVert^2\\right)$$\n",
    "\n",
    "利用随机梯度下降法（SGD）求解上述最优化问题，有\n",
    "$$\\frac{\\partial C}{\\partial p_{uf}} = -2\\left(r_{ui}-\\hat{r}_{ui}\\right)q_{if}+2\\lambda p_{uf}$$\n",
    "\n",
    "$$\\frac{\\partial C}{\\partial q_{if}} = -2\\left(r_{ui}-\\hat{r}_{ui}\\right)p_{uf}+2\\lambda q_{if}$$\n",
    "\n",
    "于是，有如下更新公式：\n",
    "$$p_{uf} =: p_{uf} + \\alpha \\left(\\left(r_{ui}-\\hat{r}_{ui}\\right)q_{if} - \\lambda p_{uf}\\right)$$\n",
    "\n",
    "$$q_{if} =: q_{if} + \\alpha\\left(\\left(r_{ui}-\\hat{r}_{ui}\\right) p_{uf} - \\lambda q_{if}\\right)$$\n",
    "\n",
    "以上算法被称之为**L**atent **F**actor **M**odel（LFM）"
   ]
  },
  {
   "cell_type": "code",
   "execution_count": null,
   "metadata": {},
   "outputs": [],
   "source": [
    "def predict(u, i, p, q):\n",
    "    \"\"\" 预测用户 u 在物品 i 上的评分 \"\"\"\n",
    "    sum = 0.0\n",
    "    for f in range(len(p[u])):\n",
    "        sum += p[u][f] * q[i][f]\n",
    "    return sum\n",
    "#     return sum(p[u][f] * q[i][f] for f in range(len(p[u])))"
   ]
  },
  {
   "cell_type": "code",
   "execution_count": null,
   "metadata": {},
   "outputs": [],
   "source": [
    "def init_LFM(train, F):\n",
    "    \"\"\"初始化参数 p 和 q，据《推荐系统实践》：“，根据经验，随机数需要和1 / sqrt(F)成正比“ \"\"\"\n",
    "    p = dict()\n",
    "    q = dict()\n",
    "\n",
    "    for index in range(train.count()[0]):\n",
    "        u, i, rating = list(train.values[index])\n",
    "        if u not in p:\n",
    "            p[u] = [random.random() / math.sqrt(F) for f in range(F)]\n",
    "        if i not in q:\n",
    "            q[i] = [random.random() / math.sqrt(F) for f in range(F)]\n",
    "    return p, q"
   ]
  },
  {
   "cell_type": "code",
   "execution_count": null,
   "metadata": {},
   "outputs": [],
   "source": [
    "def learn_LFM(train, F, n, alpha=0.001, lamb=0.02):\n",
    "    \"\"\" 学习隐语义模型参数 \"\"\"\n",
    "    p, q = init_LFM(train, F)\n",
    "\n",
    "    for step in range(n):\n",
    "        for index in range(train.count()[0]):\n",
    "            u, i, rui = list(train.values[index])\n",
    "            \n",
    "            rui_hat = predict(u, i, p, q)\n",
    "            eui =  rui - rui_hat\n",
    "            for f in range(F):\n",
    "                p[u][f] += alpha * (eui * q[i][f] - lamb * p[u][f])\n",
    "                q[i][f] += alpha * (eui * p[u][f] - lamb * q[i][f])\n",
    "        # end for\n",
    "        alpha *= 0.9     # the requirement of SGD method\n",
    "    # end for\n",
    "    return p, q"
   ]
  },
  {
   "cell_type": "code",
   "execution_count": null,
   "metadata": {},
   "outputs": [],
   "source": [
    "small_data = load(\"./data/small-renewed-train.dat\")"
   ]
  },
  {
   "cell_type": "code",
   "execution_count": null,
   "metadata": {},
   "outputs": [],
   "source": [
    "small_data = small_data.iloc[:, :3]\n",
    "\n",
    "p, q = learn_LFM(small_data, 10, 2000, 0.001, 0.02)"
   ]
  },
  {
   "cell_type": "code",
   "execution_count": null,
   "metadata": {},
   "outputs": [],
   "source": [
    "small_data = small_data.iloc[:, :3]\n",
    "prediction = []\n",
    "for index in range(small_data.count()[0]):\n",
    "    u, i, rui = list(small_data.values[index])\n",
    "    rui_hat = int(round(predict(u, i, p, q)))\n",
    "    if rui_hat > 5:\n",
    "        rui_hat = 5\n",
    "    prediction.append(rui_hat)\n",
    "small_data[\"Prediction\"] = prediction"
   ]
  },
  {
   "cell_type": "code",
   "execution_count": null,
   "metadata": {},
   "outputs": [],
   "source": [
    "small_data.head(20)"
   ]
  },
  {
   "cell_type": "code",
   "execution_count": null,
   "metadata": {},
   "outputs": [],
   "source": [
    "error = RSME(small_data[\"Rating\"], small_data[\"Prediction\"])\n",
    "error"
   ]
  },
  {
   "cell_type": "markdown",
   "metadata": {},
   "source": [
    "\n",
    "## 3.加入偏置项后的LFM\n",
    "\n",
    "此处参考「3」。\n",
    "\n",
    "预测公式：\n",
    "\n",
    "$$\\hat{r}_{ui} = \\mu + b_u + b_i + p_u^\\text{T}q_i$$\n",
    "\n",
    "其中：\n",
    "\n",
    "- $\\mu$ 是训练集中所有记录的评分的全局平均数；\n",
    "- $b_u$ 为用户偏置项；\n",
    "- $b_i$ 为物品偏置项。\n",
    "\n",
    "于是，描述为如下最优化问题：\n",
    "\n",
    "$$\\min C(P, Q) = \\min_{p,q}\\sum_{(u,i)\\in Train}\\left( r_{ui}- \\mu - b_u - b_i - \\sum_{f=1}^F p_{uf}q_{if} \\right)^2 + \\lambda_1\\left( \\lVert p_u \\rVert^2 + \\lVert q_i \\rVert^2\\right) + \\lambda_2\\left(\\lVert b_u \\rVert^2 + \\lVert b_i \\rVert^2\\right)$$\n",
    "\n",
    "此处，为了简便，取 $\\lambda_1=\\lambda_2=\\lambda$ ，同样，利用**SGD**可以得出如下偏导：\n",
    "\n",
    "$$\\frac{\\partial C}{\\partial b_u} = -2\\left(r_{ui} - \\hat{r}_{ui}\\right)+2\\lambda_2 b_u\n",
    "\\qquad\n",
    "\\frac{\\partial C}{\\partial b_i} = -2\\left(r_{ui} - \\hat{r}_{ui}\\right)+2\\lambda_2 b_i$$\n",
    "\n",
    "$$\\frac{\\partial C}{\\partial p_{uf}} = -2\\left(r_{ui}-\\hat{r}_{ui}\\right)q_{if}+2\\lambda_1 p_{uf}\n",
    "\\qquad\n",
    "\\frac{\\partial C}{\\partial q_{if}} = -2\\left(r_{ui}-\\hat{r}_{ui}\\right)p_{uf}+2\\lambda_1 q_{if}$$\n",
    "\n",
    "与更新公式:\n",
    "\n",
    "$$b_u =: b_u + \\alpha \\left(\\left(r_{ui} - \\hat{r}_{ui}\\right) - \\lambda_2 b_u\\right)\n",
    "\\qquad\n",
    "b_i =: b_i + \\alpha \\left(\\left(r_{ui} - \\hat{r}_{ui}\\right) - \\lambda_2 b_i\\right)$$\n",
    "\n",
    "$$p_{uf} =: p_{uf} + \\alpha \\left(\\left(r_{ui}-\\hat{r}_{ui}\\right)q_{if} - \\lambda_1 p_{uf}\\right)\n",
    "\\qquad\n",
    "q_{if} =: q_{if} + \\alpha\\left(\\left(r_{ui}-\\hat{r}_{ui}\\right) p_{uf} - \\lambda_1 q_{if}\\right)$$"
   ]
  },
  {
   "cell_type": "code",
   "execution_count": null,
   "metadata": {},
   "outputs": [],
   "source": [
    "avg_rating = int(round(small_data[\"Rating\"].sum()*1.0 / small_data[\"Rating\"].count()))\n",
    "avg_rating       # mu"
   ]
  },
  {
   "cell_type": "code",
   "execution_count": null,
   "metadata": {},
   "outputs": [],
   "source": [
    "def learn_bias_LFM(train, F, n, alpha, lamb, mu):\n",
    "    \"\"\" 学习带有偏置量的LFM模型 \"\"\"\n",
    "    bu, bi, p, q = init_bias_LFM(train, F)\n",
    "    for step in range(n):\n",
    "        for index in range(train.count()[0]):\n",
    "            u, i, rui = list(train.values[index])\n",
    "            rui_hat = predict_bias(u, i, p, q, bu, bi, mu)\n",
    "            eui = rui - rui_hat\n",
    "            \n",
    "            # updating parameters \n",
    "            bu[u] += alpha * (eui - lamb * bu[u])\n",
    "            bi[i] += alpha * (eui - lamb * bi[i])\n",
    "            for f in range(F):\n",
    "                p[u][f] += alpha * (q[i][f] * eui - lamb * p[u][f])\n",
    "                q[i][f] += alpha * (p[u][f] * eui - lamb * q[i][f])\n",
    "        # end for\n",
    "        alpha *= 0.9\n",
    "    # end for\n",
    "    return bu, bi, p, q"
   ]
  },
  {
   "cell_type": "code",
   "execution_count": null,
   "metadata": {},
   "outputs": [],
   "source": [
    "def init_bias_LFM(train, F):\n",
    "    \"\"\" 初始化带偏置量的LFM模型里的偏置参数和隐变量参数 \"\"\"\n",
    "    p = dict()\n",
    "    q = dict()\n",
    "    bu = dict()\n",
    "    bi = dict()\n",
    "    \n",
    "    for index in range(train.count()[0]):\n",
    "        u, i, rui = list(train.values[index])\n",
    "        bu[u] = 0\n",
    "        bi[i] = 0\n",
    "        if u not in p:\n",
    "            p[u] = [random.random() / math.sqrt(F) for f in range(F)]\n",
    "        if i not in q:\n",
    "            q[i] = [random.random() / math.sqrt(F) for f in range(F)]\n",
    "    # end for\n",
    "    \n",
    "    return bu, bi, p, q"
   ]
  },
  {
   "cell_type": "code",
   "execution_count": null,
   "metadata": {},
   "outputs": [],
   "source": [
    "def predict_bias(u, i, p, q, bu, bi, mu):\n",
    "    \"\"\" 运用带偏置量的模型进行预测 \"\"\"\n",
    "    prediction = mu + bu[u] + bi[i]\n",
    "    for f in range(len(p[u])):\n",
    "        prediction += p[u][f] * q[i][f]\n",
    "    return prediction"
   ]
  },
  {
   "cell_type": "code",
   "execution_count": null,
   "metadata": {},
   "outputs": [],
   "source": [
    "small_data = small_data.iloc[:, :3]\n",
    "\n",
    "bu, bi, p, q = learn_bias_LFM(small_data, 6, 1000, 0.001, 0.02, avg_rating)"
   ]
  },
  {
   "cell_type": "code",
   "execution_count": null,
   "metadata": {},
   "outputs": [],
   "source": [
    "prediction = []\n",
    "for index in range(small_data.count()[0]):\n",
    "    u, i, rui = list(small_data.values[index])\n",
    "    result = predict_bias(u, i, p, q, bu, bi, avg_rating)\n",
    "    rui_hat = int(round(result))\n",
    "    if rui_hat > 5:\n",
    "        rui_hat = 5\n",
    "    prediction.append(rui_hat)\n",
    "small_data[\"Prediction\"] = prediction\n"
   ]
  },
  {
   "cell_type": "code",
   "execution_count": null,
   "metadata": {},
   "outputs": [],
   "source": [
    "small_data.head(20)"
   ]
  },
  {
   "cell_type": "code",
   "execution_count": null,
   "metadata": {},
   "outputs": [],
   "source": [
    "error = RSME(small_data[\"Rating\"], small_data[\"Prediction\"])\n",
    "error"
   ]
  },
  {
   "cell_type": "markdown",
   "metadata": {},
   "source": [
    "## 4.考虑带评论信息的LFM\n",
    "\n",
    "当考虑到评论信息时，可以认为：关于物品 $i$ 的全部评论可以刻画此物品的特征。于是，可对下式中的 $q_i$ 做替换：\n",
    "\n",
    "$$\\hat{r}_{ui} = \\mu + b_u + b_i + p_u^\\text{T}q_i$$\n",
    "\n",
    "将评论考虑在内：(此处参考论文「1」)\n",
    "\n",
    "$$\\hat{r}_{ui} = \\mu + b_u + b_i + p_u^\\text{T}\\left(\\frac{1}{\\lvert R_i\\rvert} \\sum_{w\\in R_i}q_w\\right)$$\n",
    "\n",
    "其中，$R_i$ 关于物品 $i$ 的所有评论的词集，$q_w$ 则是关于词 $w$的隐语义(latent factors)向量。另外，最优化问题变为：\n",
    "\n",
    "$$\\min_{p,q}\\sum_{(u,i)\\in Train}\\left( r_{ui}- \\mu - b_u - b_i - p_u^\\text{T}\\left(\\frac{1}{\\lvert R_i\\rvert} \\sum_{w\\in R_i}q_w\\right) \\right)^2 + \\lambda_1\\left( \\lVert p_u \\rVert^2 + \\sum_{w\\in R_i}\\lVert q_w \\rVert^2\\right) + \\lambda_2\\left(\\lVert b_u \\rVert^2 + \\lVert b_i \\rVert^2\\right)$$\n",
    "\n",
    "同样，使用SGD迭代求解上述最优化问题，有关于 $p_u$ 和 $q_w$ 的更新公式：（其他参数的更新公式同上节）\n",
    "\n",
    "\n",
    "$$p_u =: p_u + \\alpha \\cdot \\left( \\left( r_{ui} - \\hat{r}_{ui}\\right) \\cdot \\frac{1}{\\lvert R_i\\rvert}\\sum_{w\\in R_i}q_w-\\lambda_1p_u\\right)$$\n",
    "$$q_w =: q_w + \\alpha \\cdot\\left( \\left(r_{ui} - \\hat{r}_{ui}\\right)\\cdot\\frac{1}{\\lvert R_i \\rvert}\\cdot p_u-\\lambda_1 q_w\\right)$$\n",
    "\n",
    "另外，在上海交通大学的论文「2」中，采用 $\\frac{1}{Z}\\sum_{w\\in R_i}q_w$ 替换 $\\frac{1}{\\lvert R_i\\rvert} \\sum_{w\\in R_i}q_w$ 。\n",
    "\n",
    "$$\\hat{r}_{ui} = \\mu + b_u + b_i + p_u^\\text{T}\\left(\\frac{1}{Z}\\sum_{w\\in R_i}q_w\\right)$$\n",
    "\n",
    "其中论文作者的参考取值为，$q_w\\in\\mathbb{R}^{200}$, $Z = \\sqrt{\\lvert R_i\\rvert}$ 。"
   ]
  },
  {
   "cell_type": "code",
   "execution_count": null,
   "metadata": {},
   "outputs": [],
   "source": [
    "line = \"\"\"Ji9PeffxjwqPLO7pEfSpKQ jQsNFOzDpxPmOurSWCg1vQ 3 328 i'm not saying pei wei is the best asian food i've ever tasted far from it it's a \n",
    "fairly large chain that puts on the appearance of something more refined it's essentially to asian food what olive garden is to italian \n",
    "food with that said i've always had pretty good experiences with pei wei the food although not spectacular is better than some of the \n",
    "overcooked chicken drowning in msg offered by some of the local chinese restaurants the portions are good sized the food is generally \n",
    "consistent and the prices are really reasonable considering this is a corporate chain in some cases cheaper than the local establishments \n",
    "or dare i say it's name panda express which is overpriced crap the time before last that i went they forgot the tomato's and the dressing\n",
    "for an asian chopped chicken salad that my wife ordered i didn't discover that the dressing was missing until i got home i immediately called \n",
    "the restaurant and was speaking to a manager within 30 seconds the manager apologized and asked me if i would like to come back to the restaurant\n",
    "or if he could have my address so he could send me a gift certificate i decided to go back to the restaurant when i got the restaurant i told the \n",
    "person at the counter my name and they already had a bag set aside for me the manager came over and explained to me there was another full salad \n",
    "in the bag and he put additional dressing for the salad we already had and additionally he gave me a coupon for free lettuce wraps which mental note \n",
    "i need to use i must say i was impressed with this manager and it was refreshing after being in situations where a manager has taken back the bag\n",
    "plate and essentially k's your food and returns it to you overall great customer service consistent food and a good option for takeout in surprise\"\"\"\n",
    "metas = line.split(\" \")\n",
    "item = metas[1]\n",
    "review_cnt = metas[3]\n",
    "review = metas[4:]\n",
    "\n",
    "print(item)\n",
    "print(review_cnt)\n",
    "print(review[:20])"
   ]
  },
  {
   "cell_type": "code",
   "execution_count": null,
   "metadata": {},
   "outputs": [],
   "source": [
    "def load_reviews(fname):\n",
    "    \"\"\" 将所有评论数据导入，为每个物品构建评论词集，不考虑词频和词序，\n",
    "    使用nltk库去除停用词和标点符号，并且对词进行词干化处理\n",
    "    @param:\n",
    "        fname:          string, 训练数据集文件名\n",
    "    @return:\n",
    "        train:          DataFrame, 训练数据集\n",
    "        reviews:        dict, 每个物品对应的评论词集\n",
    "    \"\"\"\n",
    "\n",
    "    print(\"loading training data\")\n",
    "    punctuations = {',', '.', ':', ';', '?', '(', ')', '[', ']', '!', '@', '#', '%', '$', '*'} # 自定义英文表单符号集合\n",
    "    english_stopwords = set(stopwords.words(\"english\"))\n",
    "    tokenizer = WordPunctTokenizer()\n",
    "    stemmer = PorterStemmer()      # 词干化处理\n",
    "\n",
    "    reviews = dict()\n",
    "    review_list = []\n",
    "    fuir = PREFIX + \"u-i-r.dat\"\n",
    "    if not os.path.exists(fuir):\n",
    "        save_uir = True\n",
    "        dstf = codecs.open(fuir, mode=\"a+\", encoding=\"utf-8\")\n",
    "    else:\n",
    "        save_uir = False\n",
    "\n",
    "    with codecs.open(fname, mode='r', encoding='utf-8') as f:\n",
    "        line = f.readline()\n",
    "        line_no = 0\n",
    "        while line:\n",
    "            metas = line.split(\" \")\n",
    "\n",
    "            # 将所有(usr, item, rating)条目存为单独文件，以备基础LFM使用\n",
    "            if save_uir:\n",
    "                new_line = \"\"\n",
    "                for i in metas[:3]:\n",
    "                    new_line += (i + \" \")\n",
    "                new_line = new_line.strip()\n",
    "                dstf.write(new_line + BR)\n",
    "\n",
    "            item = metas[1]    # item id\n",
    "            review_str = \"\"\n",
    "            for word in metas[4:]:\n",
    "                review_str += word + \" \"\n",
    "            wordset = {stemmer.stem(word) for word in tokenizer.tokenize(review_str)} \\\n",
    "                         - punctuations - english_stopwords\n",
    "\n",
    "            if wordset:\n",
    "                review_list.append(wordset)\n",
    "            else:\n",
    "                review_list.append(set())\n",
    "\n",
    "            if item not in reviews:\n",
    "                reviews[item] = wordset\n",
    "            else:\n",
    "                reviews[item].update(wordset)\n",
    "\n",
    "            line_no += 1\n",
    "            if line_no % 1000 == 0:\n",
    "                # print(\".\", end=\"\")\n",
    "                print(\"{} entries hanled.\".format(line_no))\n",
    "            line = f.readline()\n",
    "        # end while\n",
    "    # end with\n",
    "    if save_uir:\n",
    "        dstf.close()\n",
    "\n",
    "    train = load(fuir)\n",
    "    train[\"Review\"] = review_list\n",
    "\n",
    "    with open(PREFIX + \"train.pkl\", 'wb') as ftrain:\n",
    "        cPickle.dump(train, ftrain)\n",
    "\n",
    "    with open(PREFIX + \"review.pkl\", \"wb\") as freview:\n",
    "        cPickle.dump(reviews, freview)\n",
    "\n",
    "    return train, reviews\n"
   ]
  },
  {
   "cell_type": "code",
   "execution_count": null,
   "metadata": {},
   "outputs": [],
   "source": [
    "fname = \"./data/small-train.dat\"\n",
    "\n",
    "reviews, review_list= load_reviews(fname)\n",
    "\n",
    "print(len(reviews))\n",
    "print(len(review_list))"
   ]
  },
  {
   "cell_type": "code",
   "execution_count": null,
   "metadata": {},
   "outputs": [],
   "source": [
    "dictionary = set()\n",
    "for review in review_list:\n",
    "    dictionary.update(review)\n",
    "    \n",
    "print(\"length of review dictionary = {}.\".format(len(dictionary)))"
   ]
  },
  {
   "cell_type": "code",
   "execution_count": null,
   "metadata": {},
   "outputs": [],
   "source": [
    "def init_bias_LFM_with_reviews(train, dictionary, F):\n",
    "    \"\"\" 初始化 考虑评论与偏置项的LFM模型 \"\"\"\n",
    "    p = dict()\n",
    "    q = dict()\n",
    "    bu = dict()\n",
    "    bi = dict()\n",
    "    \n",
    "    for word in dictionary:\n",
    "        q[word] = [random.random() / math.sqrt(F) for f in range(F)]\n",
    "    \n",
    "    for index in range(train.count()[0]):\n",
    "        u, i = train.values[index][:2]\n",
    "        bu[u] = 0\n",
    "        bi[i] = 0\n",
    "        if u not in p:\n",
    "            p[u] = [random.random() / math.sqrt(F) for f in range(F)]\n",
    "    return p, q, bu, bi"
   ]
  },
  {
   "cell_type": "code",
   "execution_count": null,
   "metadata": {},
   "outputs": [],
   "source": [
    "def predict_bias_LFM_with_reviews(u, i, words, F, p, q, bu, bi, mu):\n",
    "    \"\"\" 考虑评论与偏置项的LFM的预测函数，其中：\n",
    "    \n",
    "    u        用户id\n",
    "    i        物品id\n",
    "    words    物品i对应的评论词集\n",
    "    F        隐向量的维度\n",
    "    p        已训练完成的用户向量字典\n",
    "    q        已训练完成的词向量字典\n",
    "    bu       已训练完成的用户偏置量\n",
    "    bi       已训练完成的物品偏置量\n",
    "    mu       全局评分平均值\n",
    "    \n",
    "    \"\"\"\n",
    "    prediction = mu + bu[u] + bi[i]\n",
    "    \n",
    "    q_total = [0] * F\n",
    "    for word in words:\n",
    "        q_total = [i + j / math.sqrt(len(words)) for i, j in zip(q_total, q[word])]\n",
    "    \n",
    "    for f in range(F)4031:\n",
    "        prediction += p[u][f] * q_total[f]\n",
    "    \n",
    "    return prediction  "
   ]
  },
  {
   "cell_type": "code",
   "execution_count": null,
   "metadata": {},
   "outputs": [],
   "source": [
    "def learn_bias_LFM_with_reviews(train, reviews, dictionary, F, n, alpha, lambda1, lambda2, mu):\n",
    "    \"\"\" 学习考虑评论与偏置项的LFM模型，其中：\n",
    "    \n",
    "        train                训练数据，一个条目为(usr_id, item_id, rating, review)\n",
    "        reviews              以item_id为索引的字典，存储关于当前物品的全部评论信息\n",
    "        F                    隐向量的维度\n",
    "        n                    SGD迭代次数\n",
    "        alpha                SGD参数\n",
    "        lambda1, lambda2     对于偏置项的正则化参数\n",
    "        mu                   全局评分平均值\n",
    "    \n",
    "    \"\"\"\n",
    "    p, q, bu, bi = init_bias_LFM_with_review(train, dictionary, F)\n",
    "    for iter in range(n):\n",
    "        for index in range(train.count()[0]):\n",
    "            u, i, rui, review_words = train.values[index]\n",
    "\n",
    "            rui_hat = predict_bias_LFM_with_reviews(u, i, reviews[i], F, p, q, bu, bi, mu)\n",
    "\n",
    "            eui = rui - rui_hat\n",
    "\n",
    "            # bu and bi\n",
    "            bu[u] += alpha * (eui - lambda2 * bu[u])\n",
    "            bi[i] += alpha * (eui - lambda2 * bi[i])\n",
    "\n",
    "            # updating p_u\n",
    "            q_total = [0] * F\n",
    "            Z = math.sqrt(len(review_words))\n",
    "            for word in review_words:\n",
    "                q_total = [i + j for i, j in zip(q_total, q[word])]\n",
    "            q_total = [i / Z for i in q_total]\n",
    "\n",
    "            for f in range(F):\n",
    "                p[u][f] += alpha * (q_total[f] * eui - lambda1 * p[u][f])\n",
    "            \n",
    "            # updating q_w\n",
    "            for word in review_words:\n",
    "                for f in range(F):\n",
    "                    q[word][f] += alpha * (p[u][f] * eui / Z - lambda1 * q[word][f])\n",
    "        # end for\n",
    "        alpha *= 0.9\n",
    "    # end for\n",
    "    return p, q, bu, bi"
   ]
  },
  {
   "cell_type": "markdown",
   "metadata": {},
   "source": [
    "## 5.参数设置\n",
    "根据论文「1」中参数设置，做如下参考设置\n",
    "\n",
    "隐变量维度：$$F=20$$\n",
    "\n",
    "正则化参数：$$\\lambda_1=0.8\\quad\\lambda_2=0.4$$\n",
    "\n",
    "学习率：$$\\alpha=0.008$$\n",
    "```python\n",
    "\n",
    "class LFMWithReview(object):\n",
    "    \"\"\" 将评论数据考虑在内的LFM模型 \"\"\"\n",
    "    def __init__(self, F=20, n=2000, alpha=0.008, lambda1=0.8, lambda2=0.4):\n",
    "        ……\n",
    "```"
   ]
  },
  {
   "cell_type": "markdown",
   "metadata": {},
   "source": [
    "## 6.python版本实验结果\n",
    "\n",
    "将以上考虑评论信息的LFM模型整理，并在完整的训练数据集上运行（代码见`LFM_with_review.py`）。有如下实验结果：\n",
    "\n",
    "### 6.0在small-train数据上的运行测试\n",
    "为测试模型的可运行性以及检测代码是否存在bug，先在小数据集（104条训练数据）上运行，结果如下：\n",
    ">loading training data<br>\n",
    "dictionary loaded / dumped.<br>\n",
    "dictionary word vectors initialized.<br>\n",
    "bias vectors and user vectors initialized.<br>\n",
    "global average rating: 3.53846<br>\n",
    "initialization time: 0.07s<br>\n",
    "iteration 0, Duration: 0.43s<br>\n",
    "iteration 1, Duration: 0.43s<br>\n",
    "iteration 2, Duration: 0.43s<br>\n",
    "iteration 3, Duration: 0.43s<br>\n",
    "……<br>\n",
    "iteration 198, Duration: 0.43s<br>\n",
    "iteration 199, Duration: 0.43s<br>\n",
    "learning total time: 88.61s<br>\n",
    "model dumped.<br>\n",
    "======learning finished.=======<br>\n",
    "model loaded.<br>\n",
    "==================================================<br>\n",
    "precision = 37/100 = 0.37\n",
    "\n",
    "其中，模型对训练数据的拟合准确率（模型预测值与真实值相同）达到37%。\n",
    "\n",
    "以下，开始在完整数据集上运行：\n",
    "\n",
    "### 6.1加载数据与初始化过程\n",
    ">加载训练数据集用时: 114.985569954s<br>\n",
    ">加载评论数据用时: 28.175755024s<br>\n",
    ">dictionary loaded / dumped.<br>\n",
    ">词集隐向量初始化用时: 5.87744188309s(about 0.0016326227453h)<br>\n",
    ">偏置量向量与用户向量初始化用时: 31873.5920711s(about 8.85377557529h)<br>\n",
    ">global average rating: 3.76204<br>\n",
    ">initialization time: 31879.55s\n",
    "\n",
    "其中，以上运行结果中，加载训练数据与加载评论数据用时为加载序列化对象用时。运行前，已将训练集的文本文件导入到DataFrame格式中，将各物品对应评论词集导入到dict格式，并存储为序列化文件，其用时大致为6小时。\n",
    "\n",
    "### 6.2 训练模型过程\n",
    ">`feng@RS-ubuntu:~/rs$ stdbuf -o0 python LFM_with_reviews.py > final.log &`<br>\n",
    ">`feng@RS-ubuntu:~/rs$ cat final.log`<br>\n",
    ">加载训练数据集用时: 116.260338068<br>\n",
    ">加载评论数据用时: 28.2748670578<br>\n",
    ">dictionary loaded / dumped.<br>\n",
    ">词集隐向量初始化用时: 5.87294006348s(about 0.00163137223985h)<br>\n",
    ">偏置量向量与用户向量初始化用时: 1.14972901344s(about 0.000319369170401h)<br>\n",
    ">global average rating: 3.76204<br>\n",
    ">initialization time: 7.09s<br>\n",
    ">iteration 0, Duration: **42027.59s**<br>\n",
    ">`feng@RS-ubuntu:~/rs$ kill 120311`\n",
    "\n",
    "其中，以上运行结果中，加载与初始化过程都是加载上一次运行时保存的序列化对象文件，故而用时较短。但当程序完成第一次迭代后，选择终止了程序的运行。因为第一次迭代用时大致为42000秒，也就是近12小时。完成一次迭代即需要12小时，模型参数中设置迭代次数为200次，则需要100天。被迫选择中止运行。\n",
    "\n",
    "CPU占用情况：（2核16内存微软Azure云平台Ubuntu虚拟机）\n",
    "![CPU占用情况](./cpu.png)"
   ]
  },
  {
   "cell_type": "markdown",
   "metadata": {},
   "source": [
    "## 7.C++版本运行结果\n",
    "由于上述python语言各方法时间复杂度太高，无法在合理时间内运行出结果。故转而求助于C++语言，将只考虑偏置项而不考虑评论的LFM模型改写为C++语言运行。结果大致如下：\n",
    "\n",
    "C++语言版本见具体目录文件，此处不再列出。\n",
    "\n",
    "### 7.1参数设置为：`n = 50, alpha = 0.08, lambda = 0.8`时：\n",
    "\n",
    ">\tMSE: 1.13612\t\n",
    "Iteration 0, time cost: 100\tMSE: 1.04631\t\n",
    "Iteration 1, time cost: 100\tMSE: 1.03089\t\n",
    "Iteration 2, time cost: 98\tMSE: 1.02222\t\n",
    "Iteration 3, time cost: 98\tMSE: 1.01525\t\n",
    "Iteration 4, time cost: 98\tMSE: 1.00906\t\n",
    "Iteration 5, time cost: 98\tMSE: 1.00342<br>\n",
    "……<br>\n",
    "Iteration 44, time cost: 98\tMSE: 0.94367\t\n",
    "Iteration 45, time cost: 98\tMSE: 0.943546\t\n",
    "Iteration 46, time cost: 98\tMSE: 0.943434\t\n",
    "Iteration 47, time cost: 97\tMSE: 0.943333\t\n",
    "Iteration 48, time cost: 98\tMSE: 0.943242\t\n",
    "Iteration 49, time cost: 98\tMSE: 0.942418<br>\n",
    "Learning time cost: 4907s.\n",
    "\n",
    "迭代次数为50次，每次迭代耗时为100s左右，MSE随迭代次数逐渐下降。\n",
    "\n",
    "### 7.2参数设置为：`n = 20, alpha = 0.18, lambda = 0.8`时：\n",
    ">\tMSE: 1.17838\t\n",
    "Iteration 0, time cost: 98s,\tMSE: 1.12607\t\n",
    "Iteration 1, time cost: 97s,\tMSE: 1.1099\t\n",
    "Iteration 2, time cost: 97s,\tMSE: 1.09597\t\n",
    "Iteration 3, time cost: 96s,\tMSE: 1.08332\t\n",
    "Iteration 4, time cost: 97s,\tMSE: 1.07179\t\n",
    "……<br>\n",
    "Iteration 16, time cost: 97s,\tMSE: 0.987829\t\n",
    "Iteration 17, time cost: 97s,\tMSE: 0.983851\t\n",
    "Iteration 18, time cost: 97s,\tMSE: 0.980191\t\n",
    "Iteration 19, time cost: 96s,\tMSE: 0.945461<br>\n",
    "Learning time cost: 1940s.\n",
    "\n",
    "### 7.3参数设置为：`n = 100, alpha = 0.25, lambda = 0.08`时：\n",
    ">Iteration 0, time cost: 98s,\tMSE: 1.18943\t\n",
    "Iteration 1, time cost: 97s,\tMSE: 1.1653\t\n",
    "Iteration 2, time cost: 97s,\tMSE: 1.1449\t\n",
    "Iteration 3, time cost: 97s,\tMSE: 1.12712\t\n",
    "Iteration 4, time cost: 97s,\tMSE: 1.11139\t\n",
    "Iteration 5, time cost: 97s,\tMSE: 1.09728\t\n",
    "Iteration 6, time cost: 97s,\tMSE: 1.08452\t\n",
    "Iteration 7, time cost: 98s,\tMSE: 1.07291<br>\t\n",
    "……<br>\n",
    "Iteration 96, time cost: 97s,\tMSE: 0.942441\t\n",
    "Iteration 97, time cost: 97s,\tMSE: 0.942439\t\n",
    "Iteration 98, time cost: 98s,\tMSE: 0.942437\t\n",
    "Iteration 99, time cost: 98s,\tMSE: 0.942422<br>\n",
    "Learning time cost: 9772s.\n",
    "\n",
    "可见，MSE由1.18943下降到0.942422。\n",
    "### 7.4参数设置为：`n = 200, alpha = 0.17, lambda = 0.08`时：\n",
    ">Iteration 0, time cost: 98s,\tMSE: 1.11749\t\n",
    "Iteration 1, time cost: 99s,\tMSE: 1.10209\t\n",
    "Iteration 2, time cost: 98s,\tMSE: 1.08891\t\n",
    "Iteration 3, time cost: 97s,\tMSE: 1.07692\t\n",
    "Iteration 4, time cost: 97s,\tMSE: 1.06594\t\n",
    "Iteration 5, time cost: 97s,\tMSE: 1.05587\t\n",
    "Iteration 6, time cost: 97s,\tMSE: 1.04662<br>\n",
    "……\t<br>\n",
    "Iteration 194, time cost: 97s,\tMSE: 0.942435\t\n",
    "Iteration 195, time cost: 97s,\tMSE: 0.942435\t\n",
    "Iteration 196, time cost: 96s,\tMSE: 0.942435\t\n",
    "Iteration 197, time cost: 97s,\tMSE: 0.942435\t\n",
    "Iteration 198, time cost: 97s,\tMSE: 0.942435\t\n",
    "Iteration 199, time cost: 96s,\tMSE: 0.942433<br>\n",
    "Learning time cost: 19462s.\n",
    "而此次迭代过程中，MSE下降到0.942435左右，继续迭代则变化很小；可见在此时，迭代200已经能使算法收敛到局部最优。"
   ]
  },
  {
   "cell_type": "markdown",
   "metadata": {},
   "source": [
    "## 实验结论与感悟\n",
    "---\n",
    "此次实验，耗时比较长，但问题主要在于代码时间复杂度太高，运行所需时间太长。编码过程相对短暂，只需要个把小时便能完成。由于从上学期的专业课开始，已经习惯于用Python语言来解决问题，另外又由于数据挖掘与推荐系统也属于数据问题，也就不假思索的采用了Python语言。但后续运行时，才意识到程序的复杂度，耗时之巨！\n",
    "\n",
    "本次实验，也参考了许多博客，论文与教材，总体来说收获还是相当多的。也对稍微大一些的数据集的处理有了直观上的感受，觉得还是个非常耗时与消耗计算资源的过程。\n",
    "\n",
    "最后，非常抱歉又晚交作业，实在是非常羞愧。由此给张老师带来的麻烦，我诚挚的道歉，望老师海涵。"
   ]
  },
  {
   "cell_type": "markdown",
   "metadata": {},
   "source": [
    "## 参考资料\n",
    "\n",
    "- 「1」[L.Hu, A.Sun, and Y.Liu. Your neighbors affect your ratings: on geopraghical neighborhood influence to rating prediction.](https://dl.acm.org/citation.cfm?id=2609593)\n",
    "\n",
    "- 「2」[K.Chen, T.Chen, G.Zheng, O.Jin, E.Yao, and Y.Yu. Collaborative personalized tweet recommendation.](https://dl.acm.org/citation.cfm?id=2348372)\n",
    "\n",
    "- 「3」项亮《推荐系统实践》\n",
    "\n",
    "- 「4」[Simon Funk's Blog](http://sifter.org/~simon/journal/20061211.html)\n"
   ]
  }
 ],
 "metadata": {
  "kernelspec": {
   "display_name": "Python 2",
   "language": "python",
   "name": "python2"
  },
  "language_info": {
   "codemirror_mode": {
    "name": "ipython",
    "version": 2
   },
   "file_extension": ".py",
   "mimetype": "text/x-python",
   "name": "python",
   "nbconvert_exporter": "python",
   "pygments_lexer": "ipython2",
   "version": "2.7.12"
  }
 },
 "nbformat": 4,
 "nbformat_minor": 2
}
